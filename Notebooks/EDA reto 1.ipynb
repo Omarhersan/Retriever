{
 "cells": [
  {
   "cell_type": "markdown",
   "source": [
    "# EDA \n",
    "In this EDA I will be exploring the generalities about the dataset. This may also lead to corrections in the dataset."
   ],
   "metadata": {
    "collapsed": false
   },
   "id": "9e92ca4ae894a35e"
  },
  {
   "cell_type": "code",
   "execution_count": 1,
   "id": "initial_id",
   "metadata": {
    "collapsed": true,
    "ExecuteTime": {
     "end_time": "2024-01-11T19:57:47.832051200Z",
     "start_time": "2024-01-11T19:57:47.774030600Z"
    }
   },
   "outputs": [],
   "source": [
    "import pandas as pd\n",
    "import numpy as np \n",
    "import seaborn as sns\n",
    "import matplotlib.pyplot as plt\n"
   ]
  },
  {
   "cell_type": "code",
   "execution_count": 3,
   "outputs": [
    {
     "data": {
      "text/plain": "                                    id listing_type property_type  last_price  \\\n0     e2822ddf152f4842c29395ab9c8e379e     for-sale     apartment   4700000.0   \n1     0ba1c9fd7d004b87e118a94c0b1571dd     for-sale     apartment   7200000.0   \n2     0b2fc13289ffcfad80c52b6e1c88e2c6     for-sale     apartment   7500000.0   \n3     0d2b88624583c00a369b43028a9b63e6     for-sale     apartment   6600000.0   \n4     0d52ff8d810d19c4665e9c5a0e287816     for-sale     apartment   5600000.0   \n...                                ...          ...           ...         ...   \n3281  d74825c4daec636aeeedb01231302fab     for-sale     apartment   9500000.0   \n3282  67d54869e7ad2d3f1ec95b4f0d4c543f     for-rent     apartment     49410.0   \n3283  7eaae90e38ff9780884203e95a4f554a     for-sale     apartment   7300000.0   \n3284  9150e52d2867abc80efc6b1324e8e85c     for-rent     apartment     35152.0   \n3285  0350c3b6cd12267ae2de8ee78dc3bbde     for-rent     apartment     17500.0   \n\n      num_bedrooms  num_bathrooms  has_pool  has_terrace  surface_total  \n0              2.0            1.0       NaN          NaN          101.0  \n1              2.0            2.0       NaN          1.0           70.0  \n2              2.0            2.0       NaN          1.0           81.0  \n3              3.0            2.0       NaN          NaN          136.0  \n4              2.0            2.0       NaN          1.0           87.0  \n...            ...            ...       ...          ...            ...  \n3281           3.0            2.0       NaN          1.0          170.0  \n3282           2.0            2.0       NaN          NaN           77.0  \n3283           2.0            2.0       NaN          1.0          100.0  \n3284           3.0            2.0       NaN          NaN          106.0  \n3285           1.0            1.0       NaN          NaN           45.0  \n\n[3286 rows x 9 columns]",
      "text/html": "<div>\n<style scoped>\n    .dataframe tbody tr th:only-of-type {\n        vertical-align: middle;\n    }\n\n    .dataframe tbody tr th {\n        vertical-align: top;\n    }\n\n    .dataframe thead th {\n        text-align: right;\n    }\n</style>\n<table border=\"1\" class=\"dataframe\">\n  <thead>\n    <tr style=\"text-align: right;\">\n      <th></th>\n      <th>id</th>\n      <th>listing_type</th>\n      <th>property_type</th>\n      <th>last_price</th>\n      <th>num_bedrooms</th>\n      <th>num_bathrooms</th>\n      <th>has_pool</th>\n      <th>has_terrace</th>\n      <th>surface_total</th>\n    </tr>\n  </thead>\n  <tbody>\n    <tr>\n      <th>0</th>\n      <td>e2822ddf152f4842c29395ab9c8e379e</td>\n      <td>for-sale</td>\n      <td>apartment</td>\n      <td>4700000.0</td>\n      <td>2.0</td>\n      <td>1.0</td>\n      <td>NaN</td>\n      <td>NaN</td>\n      <td>101.0</td>\n    </tr>\n    <tr>\n      <th>1</th>\n      <td>0ba1c9fd7d004b87e118a94c0b1571dd</td>\n      <td>for-sale</td>\n      <td>apartment</td>\n      <td>7200000.0</td>\n      <td>2.0</td>\n      <td>2.0</td>\n      <td>NaN</td>\n      <td>1.0</td>\n      <td>70.0</td>\n    </tr>\n    <tr>\n      <th>2</th>\n      <td>0b2fc13289ffcfad80c52b6e1c88e2c6</td>\n      <td>for-sale</td>\n      <td>apartment</td>\n      <td>7500000.0</td>\n      <td>2.0</td>\n      <td>2.0</td>\n      <td>NaN</td>\n      <td>1.0</td>\n      <td>81.0</td>\n    </tr>\n    <tr>\n      <th>3</th>\n      <td>0d2b88624583c00a369b43028a9b63e6</td>\n      <td>for-sale</td>\n      <td>apartment</td>\n      <td>6600000.0</td>\n      <td>3.0</td>\n      <td>2.0</td>\n      <td>NaN</td>\n      <td>NaN</td>\n      <td>136.0</td>\n    </tr>\n    <tr>\n      <th>4</th>\n      <td>0d52ff8d810d19c4665e9c5a0e287816</td>\n      <td>for-sale</td>\n      <td>apartment</td>\n      <td>5600000.0</td>\n      <td>2.0</td>\n      <td>2.0</td>\n      <td>NaN</td>\n      <td>1.0</td>\n      <td>87.0</td>\n    </tr>\n    <tr>\n      <th>...</th>\n      <td>...</td>\n      <td>...</td>\n      <td>...</td>\n      <td>...</td>\n      <td>...</td>\n      <td>...</td>\n      <td>...</td>\n      <td>...</td>\n      <td>...</td>\n    </tr>\n    <tr>\n      <th>3281</th>\n      <td>d74825c4daec636aeeedb01231302fab</td>\n      <td>for-sale</td>\n      <td>apartment</td>\n      <td>9500000.0</td>\n      <td>3.0</td>\n      <td>2.0</td>\n      <td>NaN</td>\n      <td>1.0</td>\n      <td>170.0</td>\n    </tr>\n    <tr>\n      <th>3282</th>\n      <td>67d54869e7ad2d3f1ec95b4f0d4c543f</td>\n      <td>for-rent</td>\n      <td>apartment</td>\n      <td>49410.0</td>\n      <td>2.0</td>\n      <td>2.0</td>\n      <td>NaN</td>\n      <td>NaN</td>\n      <td>77.0</td>\n    </tr>\n    <tr>\n      <th>3283</th>\n      <td>7eaae90e38ff9780884203e95a4f554a</td>\n      <td>for-sale</td>\n      <td>apartment</td>\n      <td>7300000.0</td>\n      <td>2.0</td>\n      <td>2.0</td>\n      <td>NaN</td>\n      <td>1.0</td>\n      <td>100.0</td>\n    </tr>\n    <tr>\n      <th>3284</th>\n      <td>9150e52d2867abc80efc6b1324e8e85c</td>\n      <td>for-rent</td>\n      <td>apartment</td>\n      <td>35152.0</td>\n      <td>3.0</td>\n      <td>2.0</td>\n      <td>NaN</td>\n      <td>NaN</td>\n      <td>106.0</td>\n    </tr>\n    <tr>\n      <th>3285</th>\n      <td>0350c3b6cd12267ae2de8ee78dc3bbde</td>\n      <td>for-rent</td>\n      <td>apartment</td>\n      <td>17500.0</td>\n      <td>1.0</td>\n      <td>1.0</td>\n      <td>NaN</td>\n      <td>NaN</td>\n      <td>45.0</td>\n    </tr>\n  </tbody>\n</table>\n<p>3286 rows × 9 columns</p>\n</div>"
     },
     "execution_count": 3,
     "metadata": {},
     "output_type": "execute_result"
    }
   ],
   "source": [
    "df = pd.read_csv('./Reto v2/listings.csv')\n",
    "df"
   ],
   "metadata": {
    "collapsed": false,
    "ExecuteTime": {
     "end_time": "2024-01-11T19:59:03.909677600Z",
     "start_time": "2024-01-11T19:59:03.865671100Z"
    }
   },
   "id": "8d49df986b80ba1a"
  },
  {
   "cell_type": "code",
   "execution_count": 7,
   "outputs": [
    {
     "name": "stdout",
     "output_type": "stream",
     "text": [
      "listing_type\n",
      "for-sale    2514\n",
      "for-rent     772\n",
      "Name: count, dtype: int64\n",
      "\n",
      "property_type\n",
      "apartment    3113\n",
      "house         173\n",
      "Name: count, dtype: int64\n",
      "\n",
      "num_bedrooms\n",
      "2.0    1802\n",
      "1.0     769\n",
      "3.0     521\n",
      "4.0      38\n",
      "0.0      19\n",
      "8.0      18\n",
      "5.0      18\n",
      "7.0      12\n",
      "6.0       8\n",
      "9.0       1\n",
      "Name: count, dtype: int64\n",
      "\n",
      "num_bathrooms\n",
      "2.0    1693\n",
      "1.0    1010\n",
      "3.0     216\n",
      "2.5     132\n",
      "3.5      43\n",
      "1.5      37\n",
      "4.0      25\n",
      "5.0      18\n",
      "0.0      15\n",
      "7.0      11\n",
      "8.0       3\n",
      "5.5       3\n",
      "4.5       2\n",
      "9.0       2\n",
      "7.5       1\n",
      "Name: count, dtype: int64\n",
      "\n",
      "has_pool\n",
      "1.0    204\n",
      "Name: count, dtype: int64\n",
      "\n",
      "has_terrace\n",
      "1.0    1848\n",
      "Name: count, dtype: int64\n"
     ]
    }
   ],
   "source": [
    "for col in df.columns:\n",
    "    ignore_cols = ['id', 'last_price', 'surface_total']\n",
    "    if col not in ignore_cols:\n",
    "        print(df[col].value_counts())\n",
    "        print()"
   ],
   "metadata": {
    "collapsed": false,
    "ExecuteTime": {
     "end_time": "2024-01-11T20:02:07.034315200Z",
     "start_time": "2024-01-11T20:02:07.013304600Z"
    }
   },
   "id": "773f9942ef9e0a4"
  },
  {
   "cell_type": "markdown",
   "source": [
    "The NAN values in the `has_pool` and `has_terrace` are probably 0's. This may cause trouble when prompting the LLM. So I will correct them at once."
   ],
   "metadata": {
    "collapsed": false
   },
   "id": "6fefccd6d1cd04a2"
  },
  {
   "cell_type": "code",
   "execution_count": 11,
   "outputs": [],
   "source": [
    "df['has_pool'] = df['has_pool'].fillna(0.0)\n",
    "df['has_terrace'] = df['has_terrace'].fillna(0.0)"
   ],
   "metadata": {
    "collapsed": false,
    "ExecuteTime": {
     "end_time": "2024-01-11T20:07:34.508513200Z",
     "start_time": "2024-01-11T20:07:34.488491Z"
    }
   },
   "id": "ff74da97907f2c5b"
  },
  {
   "cell_type": "code",
   "execution_count": 12,
   "outputs": [
    {
     "data": {
      "text/plain": "id                0\nlisting_type      0\nproperty_type     0\nlast_price        0\nnum_bedrooms     80\nnum_bathrooms    75\nhas_pool          0\nhas_terrace       0\nsurface_total     0\ndtype: int64"
     },
     "execution_count": 12,
     "metadata": {},
     "output_type": "execute_result"
    }
   ],
   "source": [
    "# Check for other columns with nan\n",
    "df.isna().sum()"
   ],
   "metadata": {
    "collapsed": false,
    "ExecuteTime": {
     "end_time": "2024-01-11T20:09:01.730584Z",
     "start_time": "2024-01-11T20:09:01.687575200Z"
    }
   },
   "id": "37f46cbfa88b2541"
  },
  {
   "cell_type": "markdown",
   "source": [
    "There is some nans in `num_bedrooms` and `num_bathrooms`. I will try to keep the dataset as it is. If the LLM has troubles with it, I will probably drop them. "
   ],
   "metadata": {
    "collapsed": false
   },
   "id": "1c552d7cca1309ef"
  },
  {
   "cell_type": "code",
   "execution_count": 15,
   "outputs": [],
   "source": [
    "df.to_csv('./app/data/listings.csv', index = False)"
   ],
   "metadata": {
    "collapsed": false,
    "ExecuteTime": {
     "end_time": "2024-01-12T03:32:07.674109700Z",
     "start_time": "2024-01-12T03:32:07.542847800Z"
    }
   },
   "id": "16bc07ce379a90bf"
  },
  {
   "cell_type": "code",
   "execution_count": null,
   "outputs": [],
   "source": [],
   "metadata": {
    "collapsed": false
   },
   "id": "cf65397c6f6c5e90"
  }
 ],
 "metadata": {
  "kernelspec": {
   "display_name": "Python 3",
   "language": "python",
   "name": "python3"
  },
  "language_info": {
   "codemirror_mode": {
    "name": "ipython",
    "version": 2
   },
   "file_extension": ".py",
   "mimetype": "text/x-python",
   "name": "python",
   "nbconvert_exporter": "python",
   "pygments_lexer": "ipython2",
   "version": "2.7.6"
  }
 },
 "nbformat": 4,
 "nbformat_minor": 5
}
