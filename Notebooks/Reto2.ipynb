{
 "cells": [
  {
   "cell_type": "code",
   "execution_count": 1,
   "id": "initial_id",
   "metadata": {
    "collapsed": true,
    "ExecuteTime": {
     "end_time": "2024-01-19T00:57:46.964409100Z",
     "start_time": "2024-01-19T00:57:43.186251300Z"
    }
   },
   "outputs": [
    {
     "data": {
      "text/plain": "                               property_id  event  time2event property_type  \\\n0     069c4d09-1f4e-4451-bf9f-23130537bb37      1          96     apartment   \n1     0a4c5851-88ae-4d33-8fb7-f7d50ca85389      0          37     apartment   \n2     9d31a760-0ffd-44df-b77e-28fe6e1b019d      1          88     apartment   \n3     fb141128-2a00-4117-929d-ca7ef507d2ab      1          58     apartment   \n4     b334cf18-5c23-4914-947a-d545c439845f      0          95     apartment   \n...                                    ...    ...         ...           ...   \n4735  2efe418d-fed8-4680-9e42-16960ac8995e      1          63     apartment   \n4736  0633a509-a82b-4f99-ac4a-9cf3f2a36794      0          47         house   \n4737  12a38011-9f85-4ef4-ae63-c8c2c5191e18      1          15     apartment   \n4738  14e7d7d1-de1f-4124-bef1-8687f1cb5818      1          49         house   \n4739  a3322b4c-0bf2-4f93-b2c3-3cd3f627f367      1          85         house   \n\n      surface_total  num_bathrooms  num_bedrooms  marketplace_hash  \\\n0             120.0            2.5           2.0     -2.900368e+18   \n1              82.0            2.0           2.0      8.261012e+18   \n2              84.0            2.0           2.0      1.657070e+18   \n3              92.0            2.0           2.0     -2.900368e+18   \n4              55.0            1.0           1.0      8.261012e+18   \n...             ...            ...           ...               ...   \n4735           60.0            1.0           1.0      6.474342e+18   \n4736          208.0            2.0           3.0      6.474342e+18   \n4737           60.0            1.0           3.0      8.261012e+18   \n4738          302.0            3.0           4.0      6.474342e+18   \n4739          350.0            4.5           6.0      6.474342e+18   \n\n              seller_hash  num_parking_lots  ...  has_elevator  has_garden  \\\n0    -7946976479905633280               1.0  ...             1           0   \n1     1284474136562356992               2.0  ...             1           0   \n2    -3834970849644356096               1.0  ...             0           0   \n3    -7946976479905633280               0.0  ...             1           0   \n4      377027056504647872               1.0  ...             1           1   \n...                   ...               ...  ...           ...         ...   \n4735   377027056504647872               1.6  ...             0           0   \n4736   377027056504647872               2.0  ...             0           1   \n4737  3394197719927815168               1.6  ...             0           0   \n4738   377027056504647872               2.0  ...             0           1   \n4739   377027056504647872               1.0  ...             0           0   \n\n      has_gym  has_luxury_features  has_pool  has_studio has_surveillance  \\\n0           0                    0         0           0                0   \n1           0                    0         0           0                1   \n2           0                    0         0           0                0   \n3           0                    0         0           0                1   \n4           1                    0         1           0                1   \n...       ...                  ...       ...         ...              ...   \n4735        0                    0         0           0                0   \n4736        0                    0         0           0                1   \n4737        0                    0         0           0                0   \n4738        0                    0         0           0                0   \n4739        0                    0         0           0                0   \n\n     has_terrace  has_visitors_parking  has_washing_area  \n0              0                     0                 0  \n1              1                     0                 0  \n2              0                     0                 0  \n3              0                     0                 0  \n4              1                     0                 0  \n...          ...                   ...               ...  \n4735           0                     0                 0  \n4736           0                     0                 1  \n4737           0                     0                 0  \n4738           0                     0                 1  \n4739           0                     0                 0  \n\n[4740 rows x 29 columns]",
      "text/html": "<div>\n<style scoped>\n    .dataframe tbody tr th:only-of-type {\n        vertical-align: middle;\n    }\n\n    .dataframe tbody tr th {\n        vertical-align: top;\n    }\n\n    .dataframe thead th {\n        text-align: right;\n    }\n</style>\n<table border=\"1\" class=\"dataframe\">\n  <thead>\n    <tr style=\"text-align: right;\">\n      <th></th>\n      <th>property_id</th>\n      <th>event</th>\n      <th>time2event</th>\n      <th>property_type</th>\n      <th>surface_total</th>\n      <th>num_bathrooms</th>\n      <th>num_bedrooms</th>\n      <th>marketplace_hash</th>\n      <th>seller_hash</th>\n      <th>num_parking_lots</th>\n      <th>...</th>\n      <th>has_elevator</th>\n      <th>has_garden</th>\n      <th>has_gym</th>\n      <th>has_luxury_features</th>\n      <th>has_pool</th>\n      <th>has_studio</th>\n      <th>has_surveillance</th>\n      <th>has_terrace</th>\n      <th>has_visitors_parking</th>\n      <th>has_washing_area</th>\n    </tr>\n  </thead>\n  <tbody>\n    <tr>\n      <th>0</th>\n      <td>069c4d09-1f4e-4451-bf9f-23130537bb37</td>\n      <td>1</td>\n      <td>96</td>\n      <td>apartment</td>\n      <td>120.0</td>\n      <td>2.5</td>\n      <td>2.0</td>\n      <td>-2.900368e+18</td>\n      <td>-7946976479905633280</td>\n      <td>1.0</td>\n      <td>...</td>\n      <td>1</td>\n      <td>0</td>\n      <td>0</td>\n      <td>0</td>\n      <td>0</td>\n      <td>0</td>\n      <td>0</td>\n      <td>0</td>\n      <td>0</td>\n      <td>0</td>\n    </tr>\n    <tr>\n      <th>1</th>\n      <td>0a4c5851-88ae-4d33-8fb7-f7d50ca85389</td>\n      <td>0</td>\n      <td>37</td>\n      <td>apartment</td>\n      <td>82.0</td>\n      <td>2.0</td>\n      <td>2.0</td>\n      <td>8.261012e+18</td>\n      <td>1284474136562356992</td>\n      <td>2.0</td>\n      <td>...</td>\n      <td>1</td>\n      <td>0</td>\n      <td>0</td>\n      <td>0</td>\n      <td>0</td>\n      <td>0</td>\n      <td>1</td>\n      <td>1</td>\n      <td>0</td>\n      <td>0</td>\n    </tr>\n    <tr>\n      <th>2</th>\n      <td>9d31a760-0ffd-44df-b77e-28fe6e1b019d</td>\n      <td>1</td>\n      <td>88</td>\n      <td>apartment</td>\n      <td>84.0</td>\n      <td>2.0</td>\n      <td>2.0</td>\n      <td>1.657070e+18</td>\n      <td>-3834970849644356096</td>\n      <td>1.0</td>\n      <td>...</td>\n      <td>0</td>\n      <td>0</td>\n      <td>0</td>\n      <td>0</td>\n      <td>0</td>\n      <td>0</td>\n      <td>0</td>\n      <td>0</td>\n      <td>0</td>\n      <td>0</td>\n    </tr>\n    <tr>\n      <th>3</th>\n      <td>fb141128-2a00-4117-929d-ca7ef507d2ab</td>\n      <td>1</td>\n      <td>58</td>\n      <td>apartment</td>\n      <td>92.0</td>\n      <td>2.0</td>\n      <td>2.0</td>\n      <td>-2.900368e+18</td>\n      <td>-7946976479905633280</td>\n      <td>0.0</td>\n      <td>...</td>\n      <td>1</td>\n      <td>0</td>\n      <td>0</td>\n      <td>0</td>\n      <td>0</td>\n      <td>0</td>\n      <td>1</td>\n      <td>0</td>\n      <td>0</td>\n      <td>0</td>\n    </tr>\n    <tr>\n      <th>4</th>\n      <td>b334cf18-5c23-4914-947a-d545c439845f</td>\n      <td>0</td>\n      <td>95</td>\n      <td>apartment</td>\n      <td>55.0</td>\n      <td>1.0</td>\n      <td>1.0</td>\n      <td>8.261012e+18</td>\n      <td>377027056504647872</td>\n      <td>1.0</td>\n      <td>...</td>\n      <td>1</td>\n      <td>1</td>\n      <td>1</td>\n      <td>0</td>\n      <td>1</td>\n      <td>0</td>\n      <td>1</td>\n      <td>1</td>\n      <td>0</td>\n      <td>0</td>\n    </tr>\n    <tr>\n      <th>...</th>\n      <td>...</td>\n      <td>...</td>\n      <td>...</td>\n      <td>...</td>\n      <td>...</td>\n      <td>...</td>\n      <td>...</td>\n      <td>...</td>\n      <td>...</td>\n      <td>...</td>\n      <td>...</td>\n      <td>...</td>\n      <td>...</td>\n      <td>...</td>\n      <td>...</td>\n      <td>...</td>\n      <td>...</td>\n      <td>...</td>\n      <td>...</td>\n      <td>...</td>\n      <td>...</td>\n    </tr>\n    <tr>\n      <th>4735</th>\n      <td>2efe418d-fed8-4680-9e42-16960ac8995e</td>\n      <td>1</td>\n      <td>63</td>\n      <td>apartment</td>\n      <td>60.0</td>\n      <td>1.0</td>\n      <td>1.0</td>\n      <td>6.474342e+18</td>\n      <td>377027056504647872</td>\n      <td>1.6</td>\n      <td>...</td>\n      <td>0</td>\n      <td>0</td>\n      <td>0</td>\n      <td>0</td>\n      <td>0</td>\n      <td>0</td>\n      <td>0</td>\n      <td>0</td>\n      <td>0</td>\n      <td>0</td>\n    </tr>\n    <tr>\n      <th>4736</th>\n      <td>0633a509-a82b-4f99-ac4a-9cf3f2a36794</td>\n      <td>0</td>\n      <td>47</td>\n      <td>house</td>\n      <td>208.0</td>\n      <td>2.0</td>\n      <td>3.0</td>\n      <td>6.474342e+18</td>\n      <td>377027056504647872</td>\n      <td>2.0</td>\n      <td>...</td>\n      <td>0</td>\n      <td>1</td>\n      <td>0</td>\n      <td>0</td>\n      <td>0</td>\n      <td>0</td>\n      <td>1</td>\n      <td>0</td>\n      <td>0</td>\n      <td>1</td>\n    </tr>\n    <tr>\n      <th>4737</th>\n      <td>12a38011-9f85-4ef4-ae63-c8c2c5191e18</td>\n      <td>1</td>\n      <td>15</td>\n      <td>apartment</td>\n      <td>60.0</td>\n      <td>1.0</td>\n      <td>3.0</td>\n      <td>8.261012e+18</td>\n      <td>3394197719927815168</td>\n      <td>1.6</td>\n      <td>...</td>\n      <td>0</td>\n      <td>0</td>\n      <td>0</td>\n      <td>0</td>\n      <td>0</td>\n      <td>0</td>\n      <td>0</td>\n      <td>0</td>\n      <td>0</td>\n      <td>0</td>\n    </tr>\n    <tr>\n      <th>4738</th>\n      <td>14e7d7d1-de1f-4124-bef1-8687f1cb5818</td>\n      <td>1</td>\n      <td>49</td>\n      <td>house</td>\n      <td>302.0</td>\n      <td>3.0</td>\n      <td>4.0</td>\n      <td>6.474342e+18</td>\n      <td>377027056504647872</td>\n      <td>2.0</td>\n      <td>...</td>\n      <td>0</td>\n      <td>1</td>\n      <td>0</td>\n      <td>0</td>\n      <td>0</td>\n      <td>0</td>\n      <td>0</td>\n      <td>0</td>\n      <td>0</td>\n      <td>1</td>\n    </tr>\n    <tr>\n      <th>4739</th>\n      <td>a3322b4c-0bf2-4f93-b2c3-3cd3f627f367</td>\n      <td>1</td>\n      <td>85</td>\n      <td>house</td>\n      <td>350.0</td>\n      <td>4.5</td>\n      <td>6.0</td>\n      <td>6.474342e+18</td>\n      <td>377027056504647872</td>\n      <td>1.0</td>\n      <td>...</td>\n      <td>0</td>\n      <td>0</td>\n      <td>0</td>\n      <td>0</td>\n      <td>0</td>\n      <td>0</td>\n      <td>0</td>\n      <td>0</td>\n      <td>0</td>\n      <td>0</td>\n    </tr>\n  </tbody>\n</table>\n<p>4740 rows × 29 columns</p>\n</div>"
     },
     "execution_count": 1,
     "metadata": {},
     "output_type": "execute_result"
    }
   ],
   "source": [
    "import pandas as pd\n",
    "import numpy as np\n",
    "import seaborn as sns\n",
    "from sksurv.linear_model import CoxnetSurvivalAnalysis\n",
    "\n",
    "data = pd.read_excel('liquidity_challenge.xlsx')\n",
    "data"
   ]
  },
  {
   "cell_type": "code",
   "execution_count": 59,
   "outputs": [
    {
     "name": "stdout",
     "output_type": "stream",
     "text": [
      "num_bathrooms has: 95 nulls\n",
      "num_bedrooms has: 94 nulls\n",
      "marketplace_hash has: 95 nulls\n",
      "num_parking_lots has: 95 nulls\n"
     ]
    }
   ],
   "source": [
    "for col in data.columns:\n",
    "    nulls =  data[col].isna().sum()\n",
    "    if nulls >0:\n",
    "        print(f'{col} has:',nulls, 'nulls')"
   ],
   "metadata": {
    "collapsed": false,
    "ExecuteTime": {
     "end_time": "2024-01-16T01:49:42.773577500Z",
     "start_time": "2024-01-16T01:49:42.742351800Z"
    }
   },
   "id": "b37220460f327d58"
  },
  {
   "cell_type": "markdown",
   "source": [
    "In this case if there were more nulls, I would probably input the mean into the nulls so the distribution wouldn't change. I am just going to drop the rows."
   ],
   "metadata": {
    "collapsed": false
   },
   "id": "bc5b543d77f62e8e"
  },
  {
   "cell_type": "code",
   "execution_count": 60,
   "outputs": [
    {
     "data": {
      "text/plain": "   event  time2event property_type  surface_total  num_bathrooms  \\\n0      1          96     apartment          120.0            2.5   \n1      0          37     apartment           82.0            2.0   \n2      1          88     apartment           84.0            2.0   \n3      1          58     apartment           92.0            2.0   \n4      0          95     apartment           55.0            1.0   \n\n   num_bedrooms  marketplace_hash          seller_hash  num_parking_lots  \\\n0           2.0     -2.900368e+18 -7946976479905633280               1.0   \n1           2.0      8.261012e+18  1284474136562356992               2.0   \n2           2.0      1.657070e+18 -3834970849644356096               1.0   \n3           2.0     -2.900368e+18 -7946976479905633280               0.0   \n4           1.0      8.261012e+18   377027056504647872               1.0   \n\n   first_price  ...  has_elevator  has_garden  has_gym  has_luxury_features  \\\n0    4100000.0  ...             1           0        0                    0   \n1    4900000.0  ...             1           0        0                    0   \n2    2782696.0  ...             0           0        0                    0   \n3    5280000.0  ...             1           0        0                    0   \n4    3250000.0  ...             1           1        1                    0   \n\n   has_pool has_studio has_surveillance  has_terrace  has_visitors_parking  \\\n0         0          0                0            0                     0   \n1         0          0                1            1                     0   \n2         0          0                0            0                     0   \n3         0          0                1            0                     0   \n4         1          0                1            1                     0   \n\n   has_washing_area  \n0                 0  \n1                 0  \n2                 0  \n3                 0  \n4                 0  \n\n[5 rows x 28 columns]",
      "text/html": "<div>\n<style scoped>\n    .dataframe tbody tr th:only-of-type {\n        vertical-align: middle;\n    }\n\n    .dataframe tbody tr th {\n        vertical-align: top;\n    }\n\n    .dataframe thead th {\n        text-align: right;\n    }\n</style>\n<table border=\"1\" class=\"dataframe\">\n  <thead>\n    <tr style=\"text-align: right;\">\n      <th></th>\n      <th>event</th>\n      <th>time2event</th>\n      <th>property_type</th>\n      <th>surface_total</th>\n      <th>num_bathrooms</th>\n      <th>num_bedrooms</th>\n      <th>marketplace_hash</th>\n      <th>seller_hash</th>\n      <th>num_parking_lots</th>\n      <th>first_price</th>\n      <th>...</th>\n      <th>has_elevator</th>\n      <th>has_garden</th>\n      <th>has_gym</th>\n      <th>has_luxury_features</th>\n      <th>has_pool</th>\n      <th>has_studio</th>\n      <th>has_surveillance</th>\n      <th>has_terrace</th>\n      <th>has_visitors_parking</th>\n      <th>has_washing_area</th>\n    </tr>\n  </thead>\n  <tbody>\n    <tr>\n      <th>0</th>\n      <td>1</td>\n      <td>96</td>\n      <td>apartment</td>\n      <td>120.0</td>\n      <td>2.5</td>\n      <td>2.0</td>\n      <td>-2.900368e+18</td>\n      <td>-7946976479905633280</td>\n      <td>1.0</td>\n      <td>4100000.0</td>\n      <td>...</td>\n      <td>1</td>\n      <td>0</td>\n      <td>0</td>\n      <td>0</td>\n      <td>0</td>\n      <td>0</td>\n      <td>0</td>\n      <td>0</td>\n      <td>0</td>\n      <td>0</td>\n    </tr>\n    <tr>\n      <th>1</th>\n      <td>0</td>\n      <td>37</td>\n      <td>apartment</td>\n      <td>82.0</td>\n      <td>2.0</td>\n      <td>2.0</td>\n      <td>8.261012e+18</td>\n      <td>1284474136562356992</td>\n      <td>2.0</td>\n      <td>4900000.0</td>\n      <td>...</td>\n      <td>1</td>\n      <td>0</td>\n      <td>0</td>\n      <td>0</td>\n      <td>0</td>\n      <td>0</td>\n      <td>1</td>\n      <td>1</td>\n      <td>0</td>\n      <td>0</td>\n    </tr>\n    <tr>\n      <th>2</th>\n      <td>1</td>\n      <td>88</td>\n      <td>apartment</td>\n      <td>84.0</td>\n      <td>2.0</td>\n      <td>2.0</td>\n      <td>1.657070e+18</td>\n      <td>-3834970849644356096</td>\n      <td>1.0</td>\n      <td>2782696.0</td>\n      <td>...</td>\n      <td>0</td>\n      <td>0</td>\n      <td>0</td>\n      <td>0</td>\n      <td>0</td>\n      <td>0</td>\n      <td>0</td>\n      <td>0</td>\n      <td>0</td>\n      <td>0</td>\n    </tr>\n    <tr>\n      <th>3</th>\n      <td>1</td>\n      <td>58</td>\n      <td>apartment</td>\n      <td>92.0</td>\n      <td>2.0</td>\n      <td>2.0</td>\n      <td>-2.900368e+18</td>\n      <td>-7946976479905633280</td>\n      <td>0.0</td>\n      <td>5280000.0</td>\n      <td>...</td>\n      <td>1</td>\n      <td>0</td>\n      <td>0</td>\n      <td>0</td>\n      <td>0</td>\n      <td>0</td>\n      <td>1</td>\n      <td>0</td>\n      <td>0</td>\n      <td>0</td>\n    </tr>\n    <tr>\n      <th>4</th>\n      <td>0</td>\n      <td>95</td>\n      <td>apartment</td>\n      <td>55.0</td>\n      <td>1.0</td>\n      <td>1.0</td>\n      <td>8.261012e+18</td>\n      <td>377027056504647872</td>\n      <td>1.0</td>\n      <td>3250000.0</td>\n      <td>...</td>\n      <td>1</td>\n      <td>1</td>\n      <td>1</td>\n      <td>0</td>\n      <td>1</td>\n      <td>0</td>\n      <td>1</td>\n      <td>1</td>\n      <td>0</td>\n      <td>0</td>\n    </tr>\n  </tbody>\n</table>\n<p>5 rows × 28 columns</p>\n</div>"
     },
     "execution_count": 60,
     "metadata": {},
     "output_type": "execute_result"
    }
   ],
   "source": [
    "# Dropping nulls\n",
    "data.dropna(inplace=True)\n",
    "\n",
    "# Dropping id\n",
    "data.drop('property_id', axis = 1, inplace = True)\n",
    "data.head()"
   ],
   "metadata": {
    "collapsed": false,
    "ExecuteTime": {
     "end_time": "2024-01-16T01:49:43.449484900Z",
     "start_time": "2024-01-16T01:49:43.418209100Z"
    }
   },
   "id": "cb2ce2cb9500619"
  },
  {
   "cell_type": "markdown",
   "source": [
    "### Dropping market hash and seller hash\n",
    "I will also drop market and seller hash as I'm not sure what they mean. They could probably be ids from market and seller, if needed they could be updated to lower numerical values."
   ],
   "metadata": {
    "collapsed": false
   },
   "id": "b684bd1aaa33fc73"
  },
  {
   "cell_type": "code",
   "execution_count": 61,
   "outputs": [],
   "source": [
    "data.drop(['marketplace_hash', 'seller_hash'], axis = 1, inplace = True)"
   ],
   "metadata": {
    "collapsed": false,
    "ExecuteTime": {
     "end_time": "2024-01-16T01:49:44.416542500Z",
     "start_time": "2024-01-16T01:49:44.387861100Z"
    }
   },
   "id": "82f8030af39a1a33"
  },
  {
   "cell_type": "markdown",
   "source": [
    "### Encoding\n",
    "Now I will encode property type"
   ],
   "metadata": {
    "collapsed": false
   },
   "id": "b79f45bd8a18c67"
  },
  {
   "cell_type": "code",
   "execution_count": 62,
   "outputs": [],
   "source": [
    "dict_aux = {\"apartment\" : 0,\n",
    "            \"house\": 1}\n",
    "data['property_type'].replace(dict_aux, inplace = True)"
   ],
   "metadata": {
    "collapsed": false,
    "ExecuteTime": {
     "end_time": "2024-01-16T01:49:45.080327300Z",
     "start_time": "2024-01-16T01:49:45.064702600Z"
    }
   },
   "id": "f36834f4bafa478e"
  },
  {
   "cell_type": "code",
   "execution_count": 63,
   "outputs": [
    {
     "data": {
      "text/plain": "      event  time2event  property_type  surface_total  num_bathrooms  \\\n0     False          96              0          120.0            2.5   \n1      True          37              0           82.0            2.0   \n2     False          88              0           84.0            2.0   \n3     False          58              0           92.0            2.0   \n4      True          95              0           55.0            1.0   \n...     ...         ...            ...            ...            ...   \n4735  False          63              0           60.0            1.0   \n4736   True          47              1          208.0            2.0   \n4737  False          15              0           60.0            1.0   \n4738  False          49              1          302.0            3.0   \n4739  False          85              1          350.0            4.5   \n\n      num_bedrooms  num_parking_lots  first_price  longitude   latitude  ...  \\\n0              2.0               1.0    4100000.0 -99.197758  19.377609  ...   \n1              2.0               2.0    4900000.0 -99.183100  19.402272  ...   \n2              2.0               1.0    2782696.0 -99.114488  19.399742  ...   \n3              2.0               0.0    5280000.0 -99.176732  19.395337  ...   \n4              1.0               1.0    3250000.0 -99.145629  19.433646  ...   \n...            ...               ...          ...        ...        ...  ...   \n4735           1.0               1.6    2900000.0 -99.167840  19.431940  ...   \n4736           3.0               2.0    5300000.0 -99.122442  19.274504  ...   \n4737           3.0               1.6    1750000.0 -99.141260  19.467090  ...   \n4738           4.0               2.0   13900000.0 -99.205880  19.344100  ...   \n4739           6.0               1.0    3500000.0 -99.068400  19.497820  ...   \n\n      has_terrace  has_visitors_parking  has_washing_area  First_year  \\\n0               0                     0                 0        2023   \n1               1                     0                 0        2023   \n2               0                     0                 0        2023   \n3               0                     0                 0        2023   \n4               1                     0                 0        2023   \n...           ...                   ...               ...         ...   \n4735            0                     0                 0        2023   \n4736            0                     0                 1        2023   \n4737            0                     0                 0        2023   \n4738            0                     0                 1        2023   \n4739            0                     0                 0        2023   \n\n      First_month  First_day  Last_year  Last_month  Last_day  price_change  \n0               6          4       2023           9         9           0.0  \n1               9          9       2023          10         9           0.0  \n2               7          5       2023          10         2           0.0  \n3               4         13       2023           6        11           0.0  \n4               7         12       2023          10         9           0.0  \n...           ...        ...        ...         ...       ...           ...  \n4735            6         19       2023           8        21           0.0  \n4736            8         29       2023          10         9           0.0  \n4737            6          4       2023           6        19           0.0  \n4738            7          3       2023           8        21           0.0  \n4739            3          5       2023           5        30           0.0  \n\n[4370 rows x 30 columns]",
      "text/html": "<div>\n<style scoped>\n    .dataframe tbody tr th:only-of-type {\n        vertical-align: middle;\n    }\n\n    .dataframe tbody tr th {\n        vertical-align: top;\n    }\n\n    .dataframe thead th {\n        text-align: right;\n    }\n</style>\n<table border=\"1\" class=\"dataframe\">\n  <thead>\n    <tr style=\"text-align: right;\">\n      <th></th>\n      <th>event</th>\n      <th>time2event</th>\n      <th>property_type</th>\n      <th>surface_total</th>\n      <th>num_bathrooms</th>\n      <th>num_bedrooms</th>\n      <th>num_parking_lots</th>\n      <th>first_price</th>\n      <th>longitude</th>\n      <th>latitude</th>\n      <th>...</th>\n      <th>has_terrace</th>\n      <th>has_visitors_parking</th>\n      <th>has_washing_area</th>\n      <th>First_year</th>\n      <th>First_month</th>\n      <th>First_day</th>\n      <th>Last_year</th>\n      <th>Last_month</th>\n      <th>Last_day</th>\n      <th>price_change</th>\n    </tr>\n  </thead>\n  <tbody>\n    <tr>\n      <th>0</th>\n      <td>False</td>\n      <td>96</td>\n      <td>0</td>\n      <td>120.0</td>\n      <td>2.5</td>\n      <td>2.0</td>\n      <td>1.0</td>\n      <td>4100000.0</td>\n      <td>-99.197758</td>\n      <td>19.377609</td>\n      <td>...</td>\n      <td>0</td>\n      <td>0</td>\n      <td>0</td>\n      <td>2023</td>\n      <td>6</td>\n      <td>4</td>\n      <td>2023</td>\n      <td>9</td>\n      <td>9</td>\n      <td>0.0</td>\n    </tr>\n    <tr>\n      <th>1</th>\n      <td>True</td>\n      <td>37</td>\n      <td>0</td>\n      <td>82.0</td>\n      <td>2.0</td>\n      <td>2.0</td>\n      <td>2.0</td>\n      <td>4900000.0</td>\n      <td>-99.183100</td>\n      <td>19.402272</td>\n      <td>...</td>\n      <td>1</td>\n      <td>0</td>\n      <td>0</td>\n      <td>2023</td>\n      <td>9</td>\n      <td>9</td>\n      <td>2023</td>\n      <td>10</td>\n      <td>9</td>\n      <td>0.0</td>\n    </tr>\n    <tr>\n      <th>2</th>\n      <td>False</td>\n      <td>88</td>\n      <td>0</td>\n      <td>84.0</td>\n      <td>2.0</td>\n      <td>2.0</td>\n      <td>1.0</td>\n      <td>2782696.0</td>\n      <td>-99.114488</td>\n      <td>19.399742</td>\n      <td>...</td>\n      <td>0</td>\n      <td>0</td>\n      <td>0</td>\n      <td>2023</td>\n      <td>7</td>\n      <td>5</td>\n      <td>2023</td>\n      <td>10</td>\n      <td>2</td>\n      <td>0.0</td>\n    </tr>\n    <tr>\n      <th>3</th>\n      <td>False</td>\n      <td>58</td>\n      <td>0</td>\n      <td>92.0</td>\n      <td>2.0</td>\n      <td>2.0</td>\n      <td>0.0</td>\n      <td>5280000.0</td>\n      <td>-99.176732</td>\n      <td>19.395337</td>\n      <td>...</td>\n      <td>0</td>\n      <td>0</td>\n      <td>0</td>\n      <td>2023</td>\n      <td>4</td>\n      <td>13</td>\n      <td>2023</td>\n      <td>6</td>\n      <td>11</td>\n      <td>0.0</td>\n    </tr>\n    <tr>\n      <th>4</th>\n      <td>True</td>\n      <td>95</td>\n      <td>0</td>\n      <td>55.0</td>\n      <td>1.0</td>\n      <td>1.0</td>\n      <td>1.0</td>\n      <td>3250000.0</td>\n      <td>-99.145629</td>\n      <td>19.433646</td>\n      <td>...</td>\n      <td>1</td>\n      <td>0</td>\n      <td>0</td>\n      <td>2023</td>\n      <td>7</td>\n      <td>12</td>\n      <td>2023</td>\n      <td>10</td>\n      <td>9</td>\n      <td>0.0</td>\n    </tr>\n    <tr>\n      <th>...</th>\n      <td>...</td>\n      <td>...</td>\n      <td>...</td>\n      <td>...</td>\n      <td>...</td>\n      <td>...</td>\n      <td>...</td>\n      <td>...</td>\n      <td>...</td>\n      <td>...</td>\n      <td>...</td>\n      <td>...</td>\n      <td>...</td>\n      <td>...</td>\n      <td>...</td>\n      <td>...</td>\n      <td>...</td>\n      <td>...</td>\n      <td>...</td>\n      <td>...</td>\n      <td>...</td>\n    </tr>\n    <tr>\n      <th>4735</th>\n      <td>False</td>\n      <td>63</td>\n      <td>0</td>\n      <td>60.0</td>\n      <td>1.0</td>\n      <td>1.0</td>\n      <td>1.6</td>\n      <td>2900000.0</td>\n      <td>-99.167840</td>\n      <td>19.431940</td>\n      <td>...</td>\n      <td>0</td>\n      <td>0</td>\n      <td>0</td>\n      <td>2023</td>\n      <td>6</td>\n      <td>19</td>\n      <td>2023</td>\n      <td>8</td>\n      <td>21</td>\n      <td>0.0</td>\n    </tr>\n    <tr>\n      <th>4736</th>\n      <td>True</td>\n      <td>47</td>\n      <td>1</td>\n      <td>208.0</td>\n      <td>2.0</td>\n      <td>3.0</td>\n      <td>2.0</td>\n      <td>5300000.0</td>\n      <td>-99.122442</td>\n      <td>19.274504</td>\n      <td>...</td>\n      <td>0</td>\n      <td>0</td>\n      <td>1</td>\n      <td>2023</td>\n      <td>8</td>\n      <td>29</td>\n      <td>2023</td>\n      <td>10</td>\n      <td>9</td>\n      <td>0.0</td>\n    </tr>\n    <tr>\n      <th>4737</th>\n      <td>False</td>\n      <td>15</td>\n      <td>0</td>\n      <td>60.0</td>\n      <td>1.0</td>\n      <td>3.0</td>\n      <td>1.6</td>\n      <td>1750000.0</td>\n      <td>-99.141260</td>\n      <td>19.467090</td>\n      <td>...</td>\n      <td>0</td>\n      <td>0</td>\n      <td>0</td>\n      <td>2023</td>\n      <td>6</td>\n      <td>4</td>\n      <td>2023</td>\n      <td>6</td>\n      <td>19</td>\n      <td>0.0</td>\n    </tr>\n    <tr>\n      <th>4738</th>\n      <td>False</td>\n      <td>49</td>\n      <td>1</td>\n      <td>302.0</td>\n      <td>3.0</td>\n      <td>4.0</td>\n      <td>2.0</td>\n      <td>13900000.0</td>\n      <td>-99.205880</td>\n      <td>19.344100</td>\n      <td>...</td>\n      <td>0</td>\n      <td>0</td>\n      <td>1</td>\n      <td>2023</td>\n      <td>7</td>\n      <td>3</td>\n      <td>2023</td>\n      <td>8</td>\n      <td>21</td>\n      <td>0.0</td>\n    </tr>\n    <tr>\n      <th>4739</th>\n      <td>False</td>\n      <td>85</td>\n      <td>1</td>\n      <td>350.0</td>\n      <td>4.5</td>\n      <td>6.0</td>\n      <td>1.0</td>\n      <td>3500000.0</td>\n      <td>-99.068400</td>\n      <td>19.497820</td>\n      <td>...</td>\n      <td>0</td>\n      <td>0</td>\n      <td>0</td>\n      <td>2023</td>\n      <td>3</td>\n      <td>5</td>\n      <td>2023</td>\n      <td>5</td>\n      <td>30</td>\n      <td>0.0</td>\n    </tr>\n  </tbody>\n</table>\n<p>4370 rows × 30 columns</p>\n</div>"
     },
     "execution_count": 63,
     "metadata": {},
     "output_type": "execute_result"
    }
   ],
   "source": [
    "# Feature engieneering\n",
    "data['First_year'] = data['first_observed_date'].dt.year\n",
    "data['First_month'] = data['first_observed_date'].dt.month\n",
    "data['First_day'] = data['first_observed_date'].dt.day\n",
    "\n",
    "data['Last_year'] = data['last_observed_date'].dt.year\n",
    "data['Last_month'] = data['last_observed_date'].dt.month\n",
    "data['Last_day'] = data['last_observed_date'].dt.day\n",
    "\n",
    "dict_aux = { 0: True,\n",
    "            1: False}\n",
    "data['event'].replace(dict_aux, inplace = True)\n",
    "\n",
    "\n",
    "data['price_change'] = 100*((data['last_price'] - data['first_price']) / data['last_price'])\n",
    "data.drop(['first_observed_date', 'last_observed_date', 'last_price'], axis = 1, inplace = True)\n",
    "data"
   ],
   "metadata": {
    "collapsed": false,
    "ExecuteTime": {
     "end_time": "2024-01-16T01:49:45.136021Z",
     "start_time": "2024-01-16T01:49:45.080327300Z"
    }
   },
   "id": "b91e2c46086dcf16"
  },
  {
   "cell_type": "code",
   "execution_count": 64,
   "outputs": [
    {
     "name": "stdout",
     "output_type": "stream",
     "text": [
      "First_year\n",
      "2023    4370\n",
      "Name: count, dtype: int64\n"
     ]
    }
   ],
   "source": [
    "print(data['First_year'].value_counts())\n",
    "data['Last_year'].value_counts()\n",
    "\n",
    "# As there is no change in the year, I will drop it\n",
    "data.drop(['First_year', 'Last_year'], axis = 1, inplace = True)"
   ],
   "metadata": {
    "collapsed": false,
    "ExecuteTime": {
     "end_time": "2024-01-16T01:49:46.166162100Z",
     "start_time": "2024-01-16T01:49:46.150543400Z"
    }
   },
   "id": "bb0403b987bbbf4b"
  },
  {
   "cell_type": "markdown",
   "source": [
    "Now we have all our dataset encoded as numeric, so let start spliting it "
   ],
   "metadata": {
    "collapsed": false
   },
   "id": "6358b98496a02314"
  },
  {
   "cell_type": "code",
   "execution_count": 80,
   "outputs": [
    {
     "data": {
      "text/plain": "((3496, 26), (3496,), (874, 26), (874,))"
     },
     "execution_count": 80,
     "metadata": {},
     "output_type": "execute_result"
    }
   ],
   "source": [
    "from sklearn.model_selection import train_test_split\n",
    "predictors = [c for c in data.columns if c != 'event' and c != 'time2event']\n",
    "X = data[predictors]\n",
    "y = data[['event', 'time2event']].to_numpy()\n",
    "\n",
    "#List of tuples\n",
    "aux = [(e1,e2) for e1,e2 in y]\n",
    "y = np.array(aux, dtype=[('Status', '?'), ('Survival_in_days', '<f8')])\n",
    "\n",
    "\n",
    "X_train, X_test, y_train, y_test = train_test_split(X, y, train_size=0.8)\n",
    "X_train.shape, y_train.shape, X_test.shape, y_test.shape"
   ],
   "metadata": {
    "collapsed": false,
    "ExecuteTime": {
     "end_time": "2024-01-16T01:53:48.749558200Z",
     "start_time": "2024-01-16T01:53:48.702628900Z"
    }
   },
   "id": "b57799d399fa314"
  },
  {
   "cell_type": "code",
   "execution_count": 81,
   "outputs": [
    {
     "name": "stdout",
     "output_type": "stream",
     "text": [
      "<class 'pandas.core.frame.DataFrame'>\n",
      "Index: 4370 entries, 0 to 4739\n",
      "Data columns (total 26 columns):\n",
      " #   Column                        Non-Null Count  Dtype  \n",
      "---  ------                        --------------  -----  \n",
      " 0   property_type                 4370 non-null   int64  \n",
      " 1   surface_total                 4370 non-null   float64\n",
      " 2   num_bathrooms                 4370 non-null   float64\n",
      " 3   num_bedrooms                  4370 non-null   float64\n",
      " 4   num_parking_lots              4370 non-null   float64\n",
      " 5   first_price                   4370 non-null   float64\n",
      " 6   longitude                     4370 non-null   float64\n",
      " 7   latitude                      4370 non-null   float64\n",
      " 8   views                         4370 non-null   int64  \n",
      " 9   num_marketplaces_property_at  4370 non-null   int64  \n",
      " 10  has_balcony                   4370 non-null   int64  \n",
      " 11  has_elevator                  4370 non-null   int64  \n",
      " 12  has_garden                    4370 non-null   int64  \n",
      " 13  has_gym                       4370 non-null   int64  \n",
      " 14  has_luxury_features           4370 non-null   int64  \n",
      " 15  has_pool                      4370 non-null   int64  \n",
      " 16  has_studio                    4370 non-null   int64  \n",
      " 17  has_surveillance              4370 non-null   int64  \n",
      " 18  has_terrace                   4370 non-null   int64  \n",
      " 19  has_visitors_parking          4370 non-null   int64  \n",
      " 20  has_washing_area              4370 non-null   int64  \n",
      " 21  First_month                   4370 non-null   int32  \n",
      " 22  First_day                     4370 non-null   int32  \n",
      " 23  Last_month                    4370 non-null   int32  \n",
      " 24  Last_day                      4370 non-null   int32  \n",
      " 25  price_change                  4370 non-null   float64\n",
      "dtypes: float64(8), int32(4), int64(14)\n",
      "memory usage: 853.5 KB\n"
     ]
    }
   ],
   "source": [
    "X.info()"
   ],
   "metadata": {
    "collapsed": false,
    "ExecuteTime": {
     "end_time": "2024-01-16T01:53:50.448063500Z",
     "start_time": "2024-01-16T01:53:50.402725100Z"
    }
   },
   "id": "e571ee5b4c679de1"
  },
  {
   "cell_type": "code",
   "execution_count": 82,
   "outputs": [
    {
     "data": {
      "text/plain": "CoxnetSurvivalAnalysis(fit_baseline_model=True, normalize=True)",
      "text/html": "<style>#sk-container-id-5 {color: black;}#sk-container-id-5 pre{padding: 0;}#sk-container-id-5 div.sk-toggleable {background-color: white;}#sk-container-id-5 label.sk-toggleable__label {cursor: pointer;display: block;width: 100%;margin-bottom: 0;padding: 0.3em;box-sizing: border-box;text-align: center;}#sk-container-id-5 label.sk-toggleable__label-arrow:before {content: \"▸\";float: left;margin-right: 0.25em;color: #696969;}#sk-container-id-5 label.sk-toggleable__label-arrow:hover:before {color: black;}#sk-container-id-5 div.sk-estimator:hover label.sk-toggleable__label-arrow:before {color: black;}#sk-container-id-5 div.sk-toggleable__content {max-height: 0;max-width: 0;overflow: hidden;text-align: left;background-color: #f0f8ff;}#sk-container-id-5 div.sk-toggleable__content pre {margin: 0.2em;color: black;border-radius: 0.25em;background-color: #f0f8ff;}#sk-container-id-5 input.sk-toggleable__control:checked~div.sk-toggleable__content {max-height: 200px;max-width: 100%;overflow: auto;}#sk-container-id-5 input.sk-toggleable__control:checked~label.sk-toggleable__label-arrow:before {content: \"▾\";}#sk-container-id-5 div.sk-estimator input.sk-toggleable__control:checked~label.sk-toggleable__label {background-color: #d4ebff;}#sk-container-id-5 div.sk-label input.sk-toggleable__control:checked~label.sk-toggleable__label {background-color: #d4ebff;}#sk-container-id-5 input.sk-hidden--visually {border: 0;clip: rect(1px 1px 1px 1px);clip: rect(1px, 1px, 1px, 1px);height: 1px;margin: -1px;overflow: hidden;padding: 0;position: absolute;width: 1px;}#sk-container-id-5 div.sk-estimator {font-family: monospace;background-color: #f0f8ff;border: 1px dotted black;border-radius: 0.25em;box-sizing: border-box;margin-bottom: 0.5em;}#sk-container-id-5 div.sk-estimator:hover {background-color: #d4ebff;}#sk-container-id-5 div.sk-parallel-item::after {content: \"\";width: 100%;border-bottom: 1px solid gray;flex-grow: 1;}#sk-container-id-5 div.sk-label:hover label.sk-toggleable__label {background-color: #d4ebff;}#sk-container-id-5 div.sk-serial::before {content: \"\";position: absolute;border-left: 1px solid gray;box-sizing: border-box;top: 0;bottom: 0;left: 50%;z-index: 0;}#sk-container-id-5 div.sk-serial {display: flex;flex-direction: column;align-items: center;background-color: white;padding-right: 0.2em;padding-left: 0.2em;position: relative;}#sk-container-id-5 div.sk-item {position: relative;z-index: 1;}#sk-container-id-5 div.sk-parallel {display: flex;align-items: stretch;justify-content: center;background-color: white;position: relative;}#sk-container-id-5 div.sk-item::before, #sk-container-id-5 div.sk-parallel-item::before {content: \"\";position: absolute;border-left: 1px solid gray;box-sizing: border-box;top: 0;bottom: 0;left: 50%;z-index: -1;}#sk-container-id-5 div.sk-parallel-item {display: flex;flex-direction: column;z-index: 1;position: relative;background-color: white;}#sk-container-id-5 div.sk-parallel-item:first-child::after {align-self: flex-end;width: 50%;}#sk-container-id-5 div.sk-parallel-item:last-child::after {align-self: flex-start;width: 50%;}#sk-container-id-5 div.sk-parallel-item:only-child::after {width: 0;}#sk-container-id-5 div.sk-dashed-wrapped {border: 1px dashed gray;margin: 0 0.4em 0.5em 0.4em;box-sizing: border-box;padding-bottom: 0.4em;background-color: white;}#sk-container-id-5 div.sk-label label {font-family: monospace;font-weight: bold;display: inline-block;line-height: 1.2em;}#sk-container-id-5 div.sk-label-container {text-align: center;}#sk-container-id-5 div.sk-container {/* jupyter's `normalize.less` sets `[hidden] { display: none; }` but bootstrap.min.css set `[hidden] { display: none !important; }` so we also need the `!important` here to be able to override the default hidden behavior on the sphinx rendered scikit-learn.org. See: https://github.com/scikit-learn/scikit-learn/issues/21755 */display: inline-block !important;position: relative;}#sk-container-id-5 div.sk-text-repr-fallback {display: none;}</style><div id=\"sk-container-id-5\" class=\"sk-top-container\"><div class=\"sk-text-repr-fallback\"><pre>CoxnetSurvivalAnalysis(fit_baseline_model=True, normalize=True)</pre><b>In a Jupyter environment, please rerun this cell to show the HTML representation or trust the notebook. <br />On GitHub, the HTML representation is unable to render, please try loading this page with nbviewer.org.</b></div><div class=\"sk-container\" hidden><div class=\"sk-item\"><div class=\"sk-estimator sk-toggleable\"><input class=\"sk-toggleable__control sk-hidden--visually\" id=\"sk-estimator-id-5\" type=\"checkbox\" checked><label for=\"sk-estimator-id-5\" class=\"sk-toggleable__label sk-toggleable__label-arrow\">CoxnetSurvivalAnalysis</label><div class=\"sk-toggleable__content\"><pre>CoxnetSurvivalAnalysis(fit_baseline_model=True, normalize=True)</pre></div></div></div></div></div>"
     },
     "execution_count": 82,
     "metadata": {},
     "output_type": "execute_result"
    }
   ],
   "source": [
    "# Training models\n",
    "model = CoxnetSurvivalAnalysis(normalize=True, fit_baseline_model=True)\n",
    "model.fit(X_train,y_train)"
   ],
   "metadata": {
    "collapsed": false,
    "ExecuteTime": {
     "end_time": "2024-01-16T01:53:51.564645600Z",
     "start_time": "2024-01-16T01:53:51.502483600Z"
    }
   },
   "id": "7a3480caf3e312dd"
  },
  {
   "cell_type": "code",
   "execution_count": 91,
   "outputs": [
    {
     "data": {
      "text/plain": "0.9547642069662812"
     },
     "execution_count": 91,
     "metadata": {},
     "output_type": "execute_result"
    }
   ],
   "source": [
    "# model evaluation\n",
    "from sksurv.metrics import concordance_index_censored\n",
    "\n",
    "prediction = model.predict(X_train)\n",
    "result = concordance_index_censored(y_train['Status'],y_train['Survival_in_days'],prediction)\n",
    "# Model evaluation with itself|\n",
    "result[0]"
   ],
   "metadata": {
    "collapsed": false,
    "ExecuteTime": {
     "end_time": "2024-01-16T01:55:53.826224400Z",
     "start_time": "2024-01-16T01:55:53.716329100Z"
    }
   },
   "id": "b8a33f36fc2f5bb9"
  },
  {
   "cell_type": "code",
   "execution_count": 92,
   "outputs": [
    {
     "data": {
      "text/plain": "0.9537506433804088"
     },
     "execution_count": 92,
     "metadata": {},
     "output_type": "execute_result"
    }
   ],
   "source": [
    "# Model evaluation with the test dataset\n",
    "model.score(X_test, y_test)"
   ],
   "metadata": {
    "collapsed": false,
    "ExecuteTime": {
     "end_time": "2024-01-16T01:55:54.735056200Z",
     "start_time": "2024-01-16T01:55:54.684687900Z"
    }
   },
   "id": "51b650f9c5fef6cd"
  },
  {
   "cell_type": "code",
   "execution_count": 93,
   "outputs": [
    {
     "data": {
      "text/plain": "Text(0.5, 0, 'time $t$')"
     },
     "execution_count": 93,
     "metadata": {},
     "output_type": "execute_result"
    },
    {
     "data": {
      "text/plain": "<Figure size 640x480 with 1 Axes>",
      "image/png": "[encoded data removed]"
     },
     "metadata": {},
     "output_type": "display_data"
    }
   ],
   "source": [
    "import matplotlib.pyplot as plt\n",
    "pred_surv = model.predict_survival_function(X)\n",
    "time_points = np.arange(1, 178)\n",
    "for i, surv_func in enumerate(pred_surv):\n",
    "    plt.step(time_points, surv_func(time_points), where=\"post\", label=f\"Sample {i + 1}\")\n",
    "plt.ylabel(r\"est. probability of survival $\\hat{S}(t)$\")\n",
    "plt.xlabel(\"time $t$\")"
   ],
   "metadata": {
    "collapsed": false,
    "ExecuteTime": {
     "end_time": "2024-01-16T01:56:04.965765Z",
     "start_time": "2024-01-16T01:55:57.892395300Z"
    }
   },
   "id": "44460dd2071617d"
  },
  {
   "cell_type": "markdown",
   "source": [
    "### Edgar dice:\n",
    "- Le hubiera gustado ver más plots\n",
    "- No hay estadísticas descriptivas del dataset\n",
    "- Dejar el seller y el market habría sido interesante para un análisis después del modelo.\n",
    "- Pareciera que un análisis de clusters sería interesante.\n",
    "- "
   ],
   "metadata": {
    "collapsed": false
   },
   "id": "e16679260dc9ec"
  },
  {
   "cell_type": "code",
   "execution_count": null,
   "outputs": [],
   "source": [],
   "metadata": {
    "collapsed": false
   },
   "id": "c4dc08b8b1ffa948"
  }
 ],
 "metadata": {
  "kernelspec": {
   "display_name": "Python 3",
   "language": "python",
   "name": "python3"
  },
  "language_info": {
   "codemirror_mode": {
    "name": "ipython",
    "version": 2
   },
   "file_extension": ".py",
   "mimetype": "text/x-python",
   "name": "python",
   "nbconvert_exporter": "python",
   "pygments_lexer": "ipython2",
   "version": "2.7.6"
  }
 },
 "nbformat": 4,
 "nbformat_minor": 5
}
